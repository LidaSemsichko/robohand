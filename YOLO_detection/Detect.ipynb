{
 "cells": [
  {
   "cell_type": "code",
   "execution_count": 1,
   "metadata": {},
   "outputs": [],
   "source": [
    "import cv2\n",
    "from ultralytics import YOLO"
   ]
  },
  {
   "cell_type": "code",
   "execution_count": 2,
   "metadata": {},
   "outputs": [],
   "source": [
    "model = YOLO(\"DetectionWeights.pt\")"
   ]
  },
  {
   "cell_type": "code",
   "execution_count": 3,
   "metadata": {},
   "outputs": [
    {
     "data": {
      "text/plain": [
       "{0: 'center', 1: 'hole', 2: 'screw'}"
      ]
     },
     "execution_count": 3,
     "metadata": {},
     "output_type": "execute_result"
    }
   ],
   "source": [
    "model.names"
   ]
  },
  {
   "cell_type": "code",
   "execution_count": 159,
   "metadata": {},
   "outputs": [],
   "source": [
    "def check_similar(given, trial_data):\n",
    "\n",
    "    x = given[0]\n",
    "    y = given[1]\n",
    "\n",
    "    for trial in trial_data:\n",
    "\n",
    "        trial_x = trial[0]\n",
    "        trial_y = trial[1]\n",
    "\n",
    "        if abs(x - trial_x) < 150 and abs(y - trial_y) < 150:\n",
    "            return True\n",
    "    \n",
    "    return False\n",
    "\n",
    "\n",
    "def live_detection(src, model):\n",
    "    cap = cv2.VideoCapture(src)\n",
    "\n",
    "    while cap.isOpened():\n",
    "\n",
    "        ret, frame = cap.read()\n",
    "\n",
    "        if not ret:\n",
    "            break\n",
    "\n",
    "        results = model(frame, conf=0.65)\n",
    "        annotated_frame = results[0].plot()\n",
    "\n",
    "        cv2.imshow(\"YOLO Inference\", annotated_frame)\n",
    "\n",
    "        if cv2.waitKey(1) & 0xFF == ord('q'):\n",
    "            break\n",
    "\n",
    "    cap.release()\n",
    "    cv2.destroyAllWindows()\n",
    "\n",
    "\n",
    "def make_image(center, holes, screws, frame):\n",
    "\n",
    "    for elem in ([center], holes, screws):\n",
    "\n",
    "        color = [(0, 255, 0), (255, 0, 0), (0, 0, 255)][([center], holes, screws).index(elem)]\n",
    "\n",
    "        for data in elem:\n",
    "\n",
    "            x, y, w, h = data\n",
    "            cv2.rectangle(frame, (x - w//2, y - h//2), (x + w//2, y + h//2), color, 2)\n",
    "    \n",
    "    return frame\n",
    "\n",
    "\n",
    "def get_data(center_id, hole_id, screw_id, src, model):\n",
    "\n",
    "    cap = cv2.VideoCapture(src)\n",
    "\n",
    "    while cap.isOpened():\n",
    "\n",
    "        ret, frame = cap.read()\n",
    "\n",
    "        if not ret:\n",
    "            break\n",
    "\n",
    "        results = model(frame, conf=0.65)\n",
    "\n",
    "        center_data = None\n",
    "        hole_data = []\n",
    "        screw_data = []\n",
    "\n",
    "        for detections in results[0].boxes:\n",
    "            data = list(map(int, detections.xywh.tolist()[0]))\n",
    "            item_class = detections.cls[0].item()\n",
    "\n",
    "            if item_class == center_id:\n",
    "                center_data = data\n",
    "\n",
    "            elif item_class == hole_id:\n",
    "                hole_data.append(data)\n",
    "\n",
    "            elif item_class == screw_id:\n",
    "                screw_data.append(data)\n",
    "\n",
    "        copy_list = []\n",
    "\n",
    "        for screw in screw_data:\n",
    "            if not check_similar(screw, hole_data):\n",
    "                \n",
    "                copy_list.append(screw)\n",
    "        \n",
    "        screw_data = copy_list\n",
    "\n",
    "        if cv2.waitKey(1) & 0xFF == ord('q'):\n",
    "            break\n",
    "\n",
    "        if center_data is not None and len(hole_data) > 0 and len(screw_data) > 0:\n",
    "            img = make_image(center_data, hole_data, screw_data, frame.copy())\n",
    "            cv2.imwrite(f\"Result.jpg\", img)\n",
    "            cap.release()\n",
    "            cv2.destroyAllWindows()\n",
    "            return center_data, hole_data, screw_data"
   ]
  },
  {
   "cell_type": "code",
   "execution_count": 162,
   "metadata": {},
   "outputs": [
    {
     "name": "stdout",
     "output_type": "stream",
     "text": [
      "\n",
      "0: 480x640 1 center, 3 holes, 3 screws, 46.0ms\n",
      "Speed: 2.0ms preprocess, 46.0ms inference, 1.0ms postprocess per image at shape (1, 3, 480, 640)\n",
      "([250, 266, 20, 24], [[174, 308, 14, 16], [108, 239, 15, 16], [176, 241, 14, 16]], [[404, 189, 13, 15], [401, 236, 12, 15]])\n"
     ]
    }
   ],
   "source": [
    "print(get_data(0, 1, 2, 0, model))"
   ]
  }
 ],
 "metadata": {
  "kernelspec": {
   "display_name": "yolo8",
   "language": "python",
   "name": "python3"
  },
  "language_info": {
   "codemirror_mode": {
    "name": "ipython",
    "version": 3
   },
   "file_extension": ".py",
   "mimetype": "text/x-python",
   "name": "python",
   "nbconvert_exporter": "python",
   "pygments_lexer": "ipython3",
   "version": "3.11.10"
  }
 },
 "nbformat": 4,
 "nbformat_minor": 2
}
